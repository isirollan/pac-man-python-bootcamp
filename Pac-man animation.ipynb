{
 "cells": [
  {
   "cell_type": "code",
   "execution_count": 163,
   "id": "0a6f09e8",
   "metadata": {},
   "outputs": [],
   "source": [
    "from turtle import Screen, setheading, color, begin_fill, left, forward, right, end_fill, circle, fillcolor, reset, penup, pendown, clear, speed \n",
    "from helpers import restore_state_when_finished, fly, no_delay, setup\n",
    "from shapes import small_circle, pac_man\n",
    "from svg_turtle import SvgTurtle\n",
    "import time"
   ]
  },
  {
   "cell_type": "code",
   "execution_count": 195,
   "id": "76693846",
   "metadata": {},
   "outputs": [],
   "source": [
    "def little_circle(num_circle, size, color_name, distance, sleeptime):\n",
    "    with restore_state_when_finished():\n",
    "        for i in range(num_circle):\n",
    "            small_circle(size, color_name)\n",
    "            fly((i+1)*distance,0)\n",
    "        time.sleep(sleeptime)"
   ]
  },
  {
   "cell_type": "code",
   "execution_count": 140,
   "id": "dc9e33e7",
   "metadata": {},
   "outputs": [],
   "source": [
    "def moving_pacman(sleeptime, screen):\n",
    "        penup()\n",
    "        forward(5)\n",
    "        pendown()\n",
    "        pac_man()\n",
    "        right(60)\n",
    "        screen.update()\n",
    "        time.sleep(sleeptime)\n",
    "        clear()\n",
    "        \n",
    "def animation_pac_man(num_frames, sleeptime, screen):\n",
    "    for i in range(num_frames):\n",
    "        moving_pacman(sleeptime, screen)\n",
    "\n",
    "def write_file(draw_func, filename, width, height):\n",
    "    t = SvgTurtle(width, height)\n",
    "    draw_func(t, sleeptime, screen)\n",
    "    t.save_as(filename)\n",
    "        \n",
    "\n",
    "    "
   ]
  },
  {
   "cell_type": "code",
   "execution_count": 199,
   "id": "40435dee",
   "metadata": {},
   "outputs": [],
   "source": [
    "def moving_pacman1(sleeptime, screen):\n",
    "        penup()\n",
    "        forward(5)\n",
    "        pendown()\n",
    "        pac_man()\n",
    "        screen.update()\n",
    "        time.sleep(sleeptime)\n",
    "        clear()\n",
    "        \n",
    "def animation_pac_man1(num_frames, sleeptime, screen):\n",
    "    for i in range(num_frames):\n",
    "        moving_pacman1(sleeptime, screen)\n",
    "        if i <= 10:\n",
    "            with no_delay():\n",
    "                little_circle(9, 5, \"black\", -50, 0.01)\n",
    "        if i > 10 and i <= 20:\n",
    "            with no_delay():\n",
    "                little_circle(8, 5, \"black\", -50, 0.01)\n",
    "        if i > 20 and i <= 30:\n",
    "            with no_delay():\n",
    "                little_circle(7, 5, \"black\", -50, 0.01)\n",
    "        if i > 30 and i <= 40:\n",
    "            with no_delay():\n",
    "                little_circle(6, 5, \"black\", -50, 0.01)\n",
    "        if i > 40 and i <= 50:\n",
    "            with no_delay():\n",
    "                little_circle(5, 5, \"black\", -50, 0.01)\n",
    "        if i > 50 and i <= 60:\n",
    "            with no_delay():\n",
    "                little_circle(4, 5, \"black\", -50, 0.01)\n",
    "        if i > 60 and i <= 70:\n",
    "            with no_delay():\n",
    "                little_circle(3, 5, \"black\", -50, 0.01)\n",
    "        if i > 70 and i <= 80:\n",
    "            with no_delay():\n",
    "                little_circle(2, 5, \"black\", -50, 0.01)\n",
    "        if i > 80 and i <= 90:\n",
    "            with no_delay():\n",
    "                little_circle(1, 5, \"black\", -50, 0.01)\n",
    "        if i > 90 and i <= 100:\n",
    "            with no_delay():\n",
    "                little_circle(0, 5, \"black\", -50, 0.01)\n",
    "            \n",
    "            "
   ]
  },
  {
   "cell_type": "code",
   "execution_count": 111,
   "id": "1a498fd8",
   "metadata": {},
   "outputs": [],
   "source": [
    "write_file(pac_man,\"pacman.svg\", 500, 500)"
   ]
  },
  {
   "cell_type": "code",
   "execution_count": 200,
   "id": "6117a83d",
   "metadata": {},
   "outputs": [],
   "source": [
    "reset()\n",
    "speed(1)\n",
    "screen = Screen()\n",
    "screen.setup(800,800)\n",
    "\n",
    "setup(-300,50)    \n",
    "with no_delay():\n",
    "        animation_pac_man1(100, 0.06, screen)"
   ]
  },
  {
   "cell_type": "code",
   "execution_count": 198,
   "id": "1e768ad8",
   "metadata": {},
   "outputs": [],
   "source": [
    "reset()\n",
    "speed(1)\n",
    "screen = Screen()\n",
    "screen.setup(800,800)\n",
    "\n",
    "with no_delay():\n",
    "    little_circle(10, 5, \"black\", 50, 0.05)\n",
    "    \n",
    "setup(0,50)\n",
    "with no_delay():\n",
    "        animation_pac_man(100, 0.05, screen)\n",
    "\n"
   ]
  },
  {
   "cell_type": "code",
   "execution_count": 191,
   "id": "c0343655",
   "metadata": {},
   "outputs": [],
   "source": [
    "reset()\n",
    "def pac_man():\n",
    "    fillcolor(\"yellow\")\n",
    "    left(150)\n",
    "    begin_fill()\n",
    "    circle(50,270)\n",
    "    left(90)\n",
    "    forward(50)\n",
    "    right(90)\n",
    "    forward(50)\n",
    "    end_fill()\n",
    "    right(60)\n",
    "    \n",
    "pac_man()\n",
    "update_position()"
   ]
  },
  {
   "cell_type": "code",
   "execution_count": 71,
   "id": "b1ff9726",
   "metadata": {},
   "outputs": [],
   "source": [
    "reset()\n",
    "screen = Screen()\n",
    "screen.setup(800,800)\n",
    "    \n",
    "\n",
    "little_circle(10, 5, \"black\", 50, 0.05)"
   ]
  },
  {
   "cell_type": "code",
   "execution_count": 88,
   "id": "854519a0",
   "metadata": {},
   "outputs": [],
   "source": [
    "reset()\n",
    "\n",
    "color(\"blue\")\n",
    "begin_fill()\n",
    "circle(5)\n",
    "end_fill()\n",
    "fly(50,0)\n"
   ]
  },
  {
   "cell_type": "code",
   "execution_count": 125,
   "id": "35664972",
   "metadata": {},
   "outputs": [
    {
     "ename": "NameError",
     "evalue": "name 'turtle' is not defined",
     "output_type": "error",
     "traceback": [
      "\u001b[0;31m---------------------------------------------------------------------------\u001b[0m",
      "\u001b[0;31mNameError\u001b[0m                                 Traceback (most recent call last)",
      "Input \u001b[0;32mIn [125]\u001b[0m, in \u001b[0;36m<cell line: 1>\u001b[0;34m()\u001b[0m\n\u001b[0;32m----> 1\u001b[0m help(\u001b[43mturtle\u001b[49m\u001b[38;5;241m.\u001b[39msetheading)\n",
      "\u001b[0;31mNameError\u001b[0m: name 'turtle' is not defined"
     ]
    }
   ],
   "source": [
    "help(turtle.setheading)"
   ]
  }
 ],
 "metadata": {
  "kernelspec": {
   "display_name": "Python 3 (ipykernel)",
   "language": "python",
   "name": "python3"
  },
  "language_info": {
   "codemirror_mode": {
    "name": "ipython",
    "version": 3
   },
   "file_extension": ".py",
   "mimetype": "text/x-python",
   "name": "python",
   "nbconvert_exporter": "python",
   "pygments_lexer": "ipython3",
   "version": "3.10.5"
  }
 },
 "nbformat": 4,
 "nbformat_minor": 5
}
